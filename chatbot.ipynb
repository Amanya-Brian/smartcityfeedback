{
 "cells": [
  {
   "cell_type": "code",
   "execution_count": 1,
   "metadata": {},
   "outputs": [
    {
     "data": {
      "text/plain": [
       "True"
      ]
     },
     "execution_count": 1,
     "metadata": {},
     "output_type": "execute_result"
    }
   ],
   "source": [
    "import os\n",
    "from dotenv import load_dotenv\n",
    "load_dotenv()"
   ]
  },
  {
   "cell_type": "code",
   "execution_count": 7,
   "metadata": {},
   "outputs": [
    {
     "data": {
      "text/plain": [
       "ChatGroq(client=<groq.resources.chat.completions.Completions object at 0x000001A50BB0A450>, async_client=<groq.resources.chat.completions.AsyncCompletions object at 0x000001A50BB0C800>, model_name='gemma-7b-it', model_kwargs={}, groq_api_key=SecretStr('**********'))"
      ]
     },
     "execution_count": 7,
     "metadata": {},
     "output_type": "execute_result"
    }
   ],
   "source": [
    "from langchain_groq import ChatGroq\n",
    "model=ChatGroq(model=\"gemma-7b-it\", groq_api_key=os.getenv(\"GROQ_API_KEY\"))\n",
    "model"
   ]
  },
  {
   "cell_type": "code",
   "execution_count": 9,
   "metadata": {},
   "outputs": [
    {
     "data": {
      "text/plain": [
       "AIMessage(content='**1. High Economic Growth Potential:**\\n\\n* Average annual GDP growth of 8.6% over the past decade.\\n* Strong agricultural and tourism sectors.\\n* Large infrastructure projects underway.\\n\\n\\n**2. Robust Infrastructure Development:**\\n\\n* Rapid expansion of road networks, airports, and port facilities.\\n* Government investment in energy and water infrastructure.\\n* Growing private sector involvement in infrastructure development.\\n\\n\\n**3. Stable Political Environment:**\\n\\n* Stable government with a clear vision and strong leadership.\\n* Low levels of corruption and political instability.\\n* Commitment to promoting democracy and human rights.\\n\\n\\n**4. Growing Consumer Demand:**\\n\\n* Rapidly increasing population and rising disposable incomes.\\n* Growing middle class with strong purchasing power.\\n* Expanding domestic tourism and hospitality sector.\\n\\n\\n**5. Strong Foreign Investment Regime:**\\n\\n* Attractive investment incentives and policies.\\n* Availability of foreign currency exchange bureaus.\\n* Growing foreign direct investment (FDI) inflows.\\n\\n\\n**6. Skilled Workforce:**\\n\\n* Young and growing population with high levels of education and skills.\\n* Availability of a skilled workforce in sectors such as healthcare, technology, and agriculture.\\n\\n\\n**7. Regional Economic Importance:**\\n\\n* Gateway to the Great Lakes Region of Africa.\\n* Host to major regional conferences and trade shows.\\n* Potential for increased regional trade and investment.\\n\\n\\n**8. Environmental Sustainability:**\\n\\n* Commitment to environmental conservation and climate change mitigation.\\n* Abundance of natural resources, including minerals and forests.\\n\\n\\n**9. Strong Foreign Currency Reserves:**\\n\\n* Large foreign exchange reserves, providing a buffer against economic shocks.\\n* Stable exchange rate.\\n\\n\\n**10. Strong Economic Resilience:**\\n\\n* Ability to withstand external shocks and maintain economic growth.\\n* Low levels of debt and inflation.', additional_kwargs={}, response_metadata={'token_usage': {'completion_tokens': 367, 'prompt_tokens': 16, 'total_tokens': 383, 'completion_time': 0.435932818, 'prompt_time': 0.010208274, 'queue_time': 0.005140454000000001, 'total_time': 0.446141092}, 'model_name': 'gemma-7b-it', 'system_fingerprint': 'fp_7d8efeb0b1', 'finish_reason': 'stop', 'logprobs': None}, id='run-d4b26859-7220-483f-94a9-8ecf611da13d-0', usage_metadata={'input_tokens': 16, 'output_tokens': 367, 'total_tokens': 383})"
      ]
     },
     "execution_count": 9,
     "metadata": {},
     "output_type": "execute_result"
    }
   ],
   "source": [
    "from langchain_core.messages import HumanMessage\n",
    "model.invoke([HumanMessage(content=\"Why should I invest in Rwanda?\")])"
   ]
  },
  {
   "cell_type": "code",
   "execution_count": 14,
   "metadata": {},
   "outputs": [],
   "source": [
    "from langchain_core.messages import HumanMessage, SystemMessage\n",
    "result = model.invoke([HumanMessage(content=\"Where should I invest in Rwanda?\")])"
   ]
  },
  {
   "cell_type": "code",
   "execution_count": 13,
   "metadata": {},
   "outputs": [
    {
     "data": {
      "text/plain": [
       "\"**Suitable Investment Options in Rwanda:**\\n\\n**1. Rwandan Stock Exchange (RSE)**\\n\\n* Rwandair\\n* Bralirwa PLC\\n* Bank of Kigali\\n* Crystal Telecom\\n* Simba Cement\\n\\n**2. Government Bonds**\\n\\n* Offered by the Rwanda Debt Management Office (DMO)\\n* Provide fixed income returns with low default risk\\n\\n**3. Rwandan Treasury Bills**\\n\\n* Short-term debt instruments issued by the government\\n* Offer risk-free returns with high liquidity\\n\\n**4. Private Equity**\\n\\n* Opportunities in sectors such as healthcare, agriculture, and infrastructure\\n* Requires significant capital and industry expertise\\n\\n**5. Agricultural Investments**\\n\\n* Coffee, tea, and horticulture sectors offer potential for high returns\\n* Requires knowledge of agricultural practices and market conditions\\n\\n**6. Real Estate**\\n\\n* Growing demand for housing and commercial space\\n* Opportunities in Kigali and other major urban centers\\n\\n**7. Infrastructure Projects**\\n\\n* Government initiatives to improve roads, energy, and water supply\\n* Potential for high returns, but requires technical expertise\\n\\n**Factors to Consider:**\\n\\n* **Political and economic stability:** Rwanda has a strong track record of economic growth and political stability.\\n* **Sectoral opportunities:** Identify sectors with high growth potential and competitive advantages.\\n* **Market liquidity:** Consider the ease of entry and exit from investments.\\n* **Risk appetite:** Rwanda's economy is still developing, so investments carry some risk.\\n* **Local regulations:** Understand the investment regulations and requirements.\\n\\n**Additional Tips:**\\n\\n* Seek advice from local investment professionals.\\n* Diversify investments across multiple sectors.\\n* Consider the long-term potential of investments.\\n* Be aware of currency risk.\\n\\n**Note:** Investing in Rwanda may require specialized knowledge and resources. It is important to conduct thorough research and due diligence before making any investment decisions.\""
      ]
     },
     "execution_count": 13,
     "metadata": {},
     "output_type": "execute_result"
    }
   ],
   "source": [
    "from langchain_core.output_parsers import StrOutputParser\n",
    "parser = StrOutputParser()\n",
    "parser.invoke(result)"
   ]
  },
  {
   "cell_type": "code",
   "execution_count": 15,
   "metadata": {},
   "outputs": [
    {
     "data": {
      "text/plain": [
       "'## Reasons to invest in Rwanda:\\n\\n**Economic Growth & Stability:**\\n\\n* One of the fastest-growing economies in Africa, averaging 8.5% GDP growth over the past decade.\\n* Strong macroeconomic stability with inflation under control and foreign exchange reserves at a comfortable level.\\n* Highly skilled and growing labor force with a youthful population.\\n\\n\\n**Infrastructure & Energy:**\\n\\n* Rapidly expanding infrastructure sector, including roads, bridges, and energy projects.\\n* Government commitment to increasing access to electricity, water, and sanitation.\\n* Growing demand for housing, transportation, and renewable energy.\\n\\n\\n**Agriculture & Agro-processing:**\\n\\n* Significant potential for agricultural growth due to fertile soils, abundant rainfall, and a large population.\\n* Growing demand for food and agricultural products in the region.\\n* Opportunities in agro-processing, such as coffee, tea, and horticulture.\\n\\n\\n**Technology & Innovation:**\\n\\n* Rapidly growing technology sector with a young and skilled workforce.\\n* Strong focus on innovation and digital transformation.\\n* Opportunities in fintech, e-commerce, and software development.\\n\\n\\n**Tourism & Hospitality:**\\n\\n* Increasing tourist arrivals and growing demand for hospitality services.\\n* Unique and diverse tourism attractions, including volcanoes, national parks, and cultural experiences.\\n\\n\\n**Manufacturing & Industry:**\\n\\n* Expanding manufacturing sector with a focus on garments, pharmaceuticals, and agro-processing.\\n* Opportunities in contract manufacturing and export production.\\n\\n\\n**Other Opportunities:**\\n\\n* Growing private sector with a large number of small and medium-sized enterprises (SMEs).\\n* Government incentives for foreign investment.\\n* Opportunities in renewable energy, healthcare, and education.\\n\\n\\n**Specific industries to consider investing in:**\\n\\n* **Agriculture & Agro-processing:** Coffee, tea, horticulture, dairy, poultry.\\n* **Technology & Innovation:** Fintech, e-commerce, software development, digital services.\\n* **Manufacturing:** Garments, pharmaceuticals, agro-processing.\\n* **Tourism & Hospitality:** Hotels, restaurants, travel & tour operators.\\n\\n\\n**Areas to avoid:**\\n\\n* Real estate speculation.\\n* Unregulated financial services.\\n* Small-scale mining.\\n\\n\\n**Note:** It is important to conduct thorough due diligence before investing in any project or sector in Rwanda.'"
      ]
     },
     "execution_count": 15,
     "metadata": {},
     "output_type": "execute_result"
    }
   ],
   "source": [
    "# Chain components using LCEL\n",
    "messages=[\n",
    "    SystemMessage(content=\"You are an expert in Kigali city investment\"),\n",
    "    HumanMessage(content=\"Why should I invest in Rwanda?\"),\n",
    "    HumanMessage(content=\"Where should I invest in Rwanda?\")\n",
    "]\n",
    "chain = model | parser\n",
    "chain.invoke(messages)"
   ]
  },
  {
   "cell_type": "code",
   "execution_count": 16,
   "metadata": {},
   "outputs": [
    {
     "data": {
      "text/plain": [
       "ChatPromptValue(messages=[SystemMessage(content='You are an expert in Kigali city investment', additional_kwargs={}, response_metadata={}), HumanMessage(content='Where do I travel to in rwanda?', additional_kwargs={}, response_metadata={})])"
      ]
     },
     "execution_count": 16,
     "metadata": {},
     "output_type": "execute_result"
    }
   ],
   "source": [
    "# prompt templates\n",
    "from langchain_core.prompts import ChatPromptTemplate\n",
    "\n",
    "generic=\"You are an expert in Kigali city investment\"\n",
    "prompt=ChatPromptTemplate.from_messages(\n",
    "    [(\"system\", generic),(\"user\",\"{text}\")]\n",
    ")\n",
    "\n",
    "prompt.invoke({\"text\":\"Where do I travel to in rwanda?\"})"
   ]
  },
  {
   "cell_type": "code",
   "execution_count": 17,
   "metadata": {},
   "outputs": [
    {
     "data": {
      "text/plain": [
       "'## Travel recommendations for Kigali city investment:\\n\\n**For investors seeking infrastructure and technology:**\\n\\n* **Kigali Innovation City:** A new special economic zone focusing on technology, innovation, and entrepreneurship. \\n* **Kigali Heights:** A mixed-use development with office spaces, retail stores, and a conference center. \\n* **Rwanda Broadcasting Corporation (RBC) Campus:** Located in the heart of Kigali, offering office and retail spaces with high foot traffic.\\n\\n**For investors in hospitality and tourism:**\\n\\n* **Nyandoro Resort:** A luxurious eco-lodge offering stunning views of the surrounding hills.\\n* **Inema Hotel:** A modern and stylish hotel with a rooftop bar and panoramic city views.\\n* **Radisson Blu Hotel Kigali:** A five-star hotel with excellent amenities and a prime location in the city center.\\n\\n**For investors in agriculture and agro-processing:**\\n\\n* **Kamonyi Agropolis:** A large-scale agricultural and industrial park with potential for agro-processing, food production, and export.\\n* **Gicaca Agricultural Development Zone:** A government-designated zone focusing on promoting agricultural development and value addition.\\n* **Bugesera Agro-Industrial Park:** A new industrial park dedicated to agricultural processing and production.\\n\\n**Additional resources for Kigali city investment:**\\n\\n* **Kigali City Investment Guide:** https://investinkigali.gov.rw/\\n* **Rwanda Development Board:** https://rdb.gov.rw/\\n* **Rwanda Investment Authority:** https://investinrwanda.gov.rw/\\n\\n**Tips for investors:**\\n\\n* **Conduct thorough research:** Understand the Rwandan market, regulations, and potential risks.\\n* **Partner with local experts:** Collaborate with experienced professionals familiar with the local business environment.\\n* **Be aware of potential challenges:** Corruption, bureaucracy, and infrastructure limitations can pose challenges.\\n* **Start small and scale gradually:** Begin with smaller investments and expand as your business grows.\\n* **Maintain a long-term perspective:** Investing in Rwanda requires patience and a long-term vision.'"
      ]
     },
     "execution_count": 17,
     "metadata": {},
     "output_type": "execute_result"
    }
   ],
   "source": [
    " # chain\n",
    "chain=prompt|model|parser\n",
    "chain.invoke({\"text\":\"Where do I travel to in rwanda?\"})"
   ]
  }
 ],
 "metadata": {
  "kernelspec": {
   "display_name": "smart",
   "language": "python",
   "name": "python3"
  },
  "language_info": {
   "codemirror_mode": {
    "name": "ipython",
    "version": 3
   },
   "file_extension": ".py",
   "mimetype": "text/x-python",
   "name": "python",
   "nbconvert_exporter": "python",
   "pygments_lexer": "ipython3",
   "version": "3.12.7"
  }
 },
 "nbformat": 4,
 "nbformat_minor": 2
}
